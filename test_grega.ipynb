{
 "cells": [
  {
   "cell_type": "code",
   "execution_count": 2,
   "id": "e67e2a26",
   "metadata": {
    "ExecuteTime": {
     "end_time": "2021-11-06T21:22:42.794544Z",
     "start_time": "2021-11-06T21:22:32.300629Z"
    }
   },
   "outputs": [
    {
     "name": "stdout",
     "output_type": "stream",
     "text": [
      "Collecting pyproj\n",
      "  Downloading pyproj-3.2.1-cp38-cp38-manylinux2010_x86_64.whl (6.3 MB)\n",
      "\u001b[K     |████████████████████████████████| 6.3 MB 9.7 MB/s eta 0:00:01\n",
      "\u001b[?25hRequirement already satisfied: certifi in /opt/conda/lib/python3.8/site-packages (from pyproj) (2021.5.30)\n",
      "Installing collected packages: pyproj\n",
      "Successfully installed pyproj-3.2.1\n",
      "\u001b[33mWARNING: Running pip as the 'root' user can result in broken permissions and conflicting behaviour with the system package manager. It is recommended to use a virtual environment instead: https://pip.pypa.io/warnings/venv\u001b[0m\n"
     ]
    }
   ],
   "source": [
    "!pip install pyproj"
   ]
  },
  {
   "cell_type": "code",
   "execution_count": 3,
   "id": "a0d3dff8",
   "metadata": {
    "ExecuteTime": {
     "end_time": "2021-11-06T21:22:45.854490Z",
     "start_time": "2021-11-06T21:22:45.777111Z"
    }
   },
   "outputs": [
    {
     "data": {
      "text/plain": [
       "(8.66090973324297, 44.9641360816235)"
      ]
     },
     "execution_count": 3,
     "metadata": {},
     "output_type": "execute_result"
    }
   ],
   "source": [
    "from pyproj import Transformer\n",
    "transformer = Transformer.from_crs(\"EPSG:3794\", \"EPSG:4326\", always_xy=True)\n",
    "transformer.transform(-80, 50)"
   ]
  },
  {
   "cell_type": "code",
   "execution_count": null,
   "id": "832a6a1a",
   "metadata": {},
   "outputs": [],
   "source": []
  }
 ],
 "metadata": {
  "kernelspec": {
   "display_name": "Python 3",
   "language": "python",
   "name": "python3"
  },
  "language_info": {
   "codemirror_mode": {
    "name": "ipython",
    "version": 3
   },
   "file_extension": ".py",
   "mimetype": "text/x-python",
   "name": "python",
   "nbconvert_exporter": "python",
   "pygments_lexer": "ipython3",
   "version": "3.8.10"
  },
  "toc": {
   "base_numbering": 1,
   "nav_menu": {},
   "number_sections": false,
   "sideBar": true,
   "skip_h1_title": false,
   "title_cell": "Table of Contents",
   "title_sidebar": "Contents",
   "toc_cell": false,
   "toc_position": {},
   "toc_section_display": true,
   "toc_window_display": false
  }
 },
 "nbformat": 4,
 "nbformat_minor": 5
}
