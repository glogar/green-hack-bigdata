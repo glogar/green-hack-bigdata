{
 "cells": [
  {
   "cell_type": "code",
   "execution_count": 3,
   "id": "b78701b4",
   "metadata": {
    "ExecuteTime": {
     "end_time": "2021-11-06T21:27:58.502081Z",
     "start_time": "2021-11-06T21:27:58.456064Z"
    }
   },
   "outputs": [],
   "source": [
    "from pyproj import CRS\n",
    "crs_4326 = CRS(\"WGS84\")\n",
    "crs_proj = CRS(\"EPSG:3794\")\n",
    "crs_proj = CRS(\"D96/TM\")"
   ]
  },
  {
   "cell_type": "code",
   "execution_count": 4,
   "id": "306734b7",
   "metadata": {
    "ExecuteTime": {
     "end_time": "2021-11-06T21:28:01.010363Z",
     "start_time": "2021-11-06T21:28:00.958210Z"
    }
   },
   "outputs": [
    {
     "name": "stdout",
     "output_type": "stream",
     "text": [
      "44.96375468789489 8.661978672809731\n"
     ]
    }
   ],
   "source": [
    "from pyproj import Transformer\n",
    "# transformer = Transformer.from_crs(crs_4326, crs_proj)\n",
    "transformer = Transformer.from_crs(crs_proj, crs_4326)\n",
    "\n",
    "lon, lat = transformer.transform(1, 1)\n",
    "\n",
    "print(lon, lat)"
   ]
  },
  {
   "cell_type": "code",
   "execution_count": null,
   "id": "4385f189",
   "metadata": {},
   "outputs": [],
   "source": []
  }
 ],
 "metadata": {
  "kernelspec": {
   "display_name": "Python 3",
   "language": "python",
   "name": "python3"
  },
  "language_info": {
   "codemirror_mode": {
    "name": "ipython",
    "version": 3
   },
   "file_extension": ".py",
   "mimetype": "text/x-python",
   "name": "python",
   "nbconvert_exporter": "python",
   "pygments_lexer": "ipython3",
   "version": "3.8.10"
  },
  "toc": {
   "base_numbering": 1,
   "nav_menu": {},
   "number_sections": false,
   "sideBar": true,
   "skip_h1_title": false,
   "title_cell": "Table of Contents",
   "title_sidebar": "Contents",
   "toc_cell": false,
   "toc_position": {},
   "toc_section_display": true,
   "toc_window_display": false
  }
 },
 "nbformat": 4,
 "nbformat_minor": 5
}
